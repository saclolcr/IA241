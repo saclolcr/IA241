{
 "cells": [
  {
   "cell_type": "code",
   "execution_count": 21,
   "metadata": {},
   "outputs": [],
   "source": [
    "import xlrd"
   ]
  },
  {
   "cell_type": "code",
   "execution_count": 22,
   "metadata": {},
   "outputs": [],
   "source": [
    "import xlwt"
   ]
  },
  {
   "cell_type": "markdown",
   "metadata": {},
   "source": [
    "!pip install xlutils"
   ]
  },
  {
   "cell_type": "code",
   "execution_count": 3,
   "metadata": {},
   "outputs": [],
   "source": [
    "dbook = xlrd.open_workbook(\"Diamonds.xls\")"
   ]
  },
  {
   "cell_type": "code",
   "execution_count": 4,
   "metadata": {},
   "outputs": [
    {
     "name": "stdout",
     "output_type": "stream",
     "text": [
      "2\n"
     ]
    }
   ],
   "source": [
    "print(dbook.nsheets)"
   ]
  },
  {
   "cell_type": "code",
   "execution_count": 5,
   "metadata": {},
   "outputs": [
    {
     "name": "stdout",
     "output_type": "stream",
     "text": [
      "['Diamonds', 'Legend']\n"
     ]
    }
   ],
   "source": [
    "print(dbook.sheet_names())"
   ]
  },
  {
   "cell_type": "code",
   "execution_count": 6,
   "metadata": {},
   "outputs": [],
   "source": [
    "dsheet = dbook.sheet_by_name(\"Diamonds\")"
   ]
  },
  {
   "cell_type": "code",
   "execution_count": 7,
   "metadata": {},
   "outputs": [
    {
     "name": "stdout",
     "output_type": "stream",
     "text": [
      "[151.0, 1.1, 'H', 'VS2', 'GIA', 9646.0]\n"
     ]
    }
   ],
   "source": [
    "print(dsheet.row_values(151))"
   ]
  },
  {
   "cell_type": "code",
   "execution_count": 8,
   "metadata": {},
   "outputs": [
    {
     "name": "stdout",
     "output_type": "stream",
     "text": [
      "309\n"
     ]
    }
   ],
   "source": [
    "print(dsheet.nrows)"
   ]
  },
  {
   "cell_type": "code",
   "execution_count": 9,
   "metadata": {},
   "outputs": [
    {
     "name": "stdout",
     "output_type": "stream",
     "text": [
      "6\n"
     ]
    }
   ],
   "source": [
    "print(dsheet.ncols)"
   ]
  },
  {
   "cell_type": "markdown",
   "metadata": {},
   "source": [
    "# Q1 MAXIMUM WEIGHT + PRICE"
   ]
  },
  {
   "cell_type": "code",
   "execution_count": 10,
   "metadata": {},
   "outputs": [
    {
     "name": "stdout",
     "output_type": "stream",
     "text": [
      "['IDNO', 'WEIGHT', 'COLOR', 'CLARITY', 'RATER', 'PRICE']\n",
      "[1.0, 0.3, 'D', 'VS2', 'GIA', 1302.0]\n",
      "[2.0, 0.3, 'E', 'VS1', 'GIA', 1510.0]\n",
      "[3.0, 0.3, 'G', 'VVS1', 'GIA', 1510.0]\n",
      "[4.0, 0.3, 'G', 'VS1', 'GIA', 1260.0]\n",
      "[5.0, 0.31, 'D', 'VS1', 'GIA', 1641.0]\n",
      "[6.0, 0.31, 'E', 'VS1', 'GIA', 1555.0]\n",
      "[7.0, 0.31, 'F', 'VS1', 'GIA', 1427.0]\n",
      "[8.0, 0.31, 'G', 'VVS2', 'GIA', 1427.0]\n",
      "[9.0, 0.31, 'H', 'VS2', 'GIA', 1126.0]\n",
      "[10.0, 0.31, 'I', 'VS1', 'GIA', 1126.0]\n",
      "[11.0, 0.32, 'F', 'VS1', 'GIA', 1468.0]\n",
      "[12.0, 0.32, 'G', 'VS2', 'GIA', 1202.0]\n",
      "[13.0, 0.33, 'E', 'VS2', 'GIA', 1327.0]\n",
      "[14.0, 0.33, 'I', 'VS2', 'GIA', 1098.0]\n",
      "[15.0, 0.34, 'E', 'VS1', 'GIA', 1693.0]\n",
      "[16.0, 0.34, 'F', 'VS1', 'GIA', 1551.0]\n",
      "[17.0, 0.34, 'G', 'VS1', 'GIA', 1410.0]\n",
      "[18.0, 0.34, 'G', 'VS2', 'GIA', 1269.0]\n",
      "[19.0, 0.34, 'H', 'VS1', 'GIA', 1316.0]\n",
      "[20.0, 0.34, 'H', 'VS2', 'GIA', 1222.0]\n",
      "[21.0, 0.35, 'E', 'VS1', 'GIA', 1738.0]\n",
      "[22.0, 0.35, 'F', 'VS1', 'GIA', 1593.0]\n",
      "[23.0, 0.35, 'G', 'VS1', 'GIA', 1447.0]\n",
      "[24.0, 0.35, 'H', 'VS2', 'GIA', 1255.0]\n",
      "[25.0, 0.36, 'F', 'VS1', 'GIA', 1635.0]\n",
      "[26.0, 0.36, 'H', 'VVS2', 'GIA', 1485.0]\n",
      "[27.0, 0.37, 'F', 'VS2', 'GIA', 1420.0]\n",
      "[28.0, 0.37, 'H', 'VS1', 'GIA', 1420.0]\n",
      "[29.0, 0.4, 'F', 'VS1', 'GIA', 1911.0]\n",
      "[30.0, 0.4, 'H', 'VS1', 'GIA', 1525.0]\n",
      "[31.0, 0.41, 'F', 'VS1', 'GIA', 1956.0]\n",
      "[32.0, 0.43, 'H', 'VVS2', 'GIA', 1747.0]\n",
      "[33.0, 0.45, 'I', 'VS1', 'GIA', 1572.0]\n",
      "[34.0, 0.46, 'E', 'VVS2', 'GIA', 2942.0]\n",
      "[35.0, 0.48, 'G', 'VVS2', 'GIA', 2532.0]\n",
      "[36.0, 0.5, 'E', 'VS1', 'GIA', 3501.0]\n",
      "[37.0, 0.5, 'E', 'VS1', 'GIA', 3501.0]\n",
      "[38.0, 0.5, 'F', 'VVS2', 'GIA', 3501.0]\n",
      "[39.0, 0.5, 'F', 'VS1', 'GIA', 3293.0]\n",
      "[40.0, 0.5, 'G', 'VS1', 'GIA', 3016.0]\n",
      "[41.0, 0.51, 'F', 'VVS2', 'GIA', 3567.0]\n",
      "[42.0, 0.51, 'G', 'VS1', 'GIA', 3205.0]\n",
      "[43.0, 0.52, 'D', 'VS2', 'GIA', 3490.0]\n",
      "[44.0, 0.52, 'E', 'VS1', 'GIA', 3635.0]\n",
      "[45.0, 0.52, 'F', 'VVS2', 'GIA', 3635.0]\n",
      "[46.0, 0.52, 'F', 'VS1', 'GIA', 3418.0]\n",
      "[47.0, 0.53, 'D', 'VS1', 'GIA', 3921.0]\n",
      "[48.0, 0.53, 'F', 'VVS2', 'GIA', 3701.0]\n",
      "[49.0, 0.53, 'F', 'VS1', 'GIA', 3480.0]\n",
      "[50.0, 0.53, 'G', 'VVS2', 'GIA', 3407.0]\n",
      "[51.0, 0.54, 'E', 'VS1', 'GIA', 3767.0]\n",
      "[52.0, 0.54, 'F', 'VVS1', 'GIA', 4066.0]\n",
      "[53.0, 0.55, 'E', 'VVS2', 'GIA', 4138.0]\n",
      "[54.0, 0.55, 'F', 'VS1', 'GIA', 3605.0]\n",
      "[55.0, 0.55, 'G', 'VVS2', 'GIA', 3529.0]\n",
      "[56.0, 0.56, 'F', 'VS1', 'GIA', 3667.0]\n",
      "[57.0, 0.56, 'I', 'VVS2', 'GIA', 2892.0]\n",
      "[58.0, 0.57, 'G', 'VVS2', 'GIA', 3651.0]\n",
      "[59.0, 0.59, 'G', 'VVS2', 'GIA', 3773.0]\n",
      "[60.0, 0.6, 'F', 'VS1', 'GIA', 4291.0]\n",
      "[61.0, 0.62, 'E', 'VVS1', 'GIA', 5845.0]\n",
      "[62.0, 0.63, 'G', 'VVS2', 'GIA', 4401.0]\n",
      "[63.0, 0.64, 'G', 'VVS1', 'GIA', 4759.0]\n",
      "[64.0, 0.66, 'H', 'VVS1', 'GIA', 4300.0]\n",
      "[65.0, 0.7, 'F', 'VS1', 'GIA', 5510.0]\n",
      "[66.0, 0.7, 'G', 'VS1', 'GIA', 5122.0]\n",
      "[67.0, 0.7, 'H', 'VVS2', 'GIA', 5122.0]\n",
      "[68.0, 0.7, 'I', 'VS2', 'GIA', 3861.0]\n",
      "[69.0, 0.71, 'F', 'VVS2', 'GIA', 5881.0]\n",
      "[70.0, 0.71, 'F', 'VS1', 'GIA', 5586.0]\n",
      "[71.0, 0.71, 'F', 'VS2', 'GIA', 5193.0]\n",
      "[72.0, 0.71, 'H', 'VVS2', 'GIA', 5193.0]\n",
      "[73.0, 0.72, 'F', 'VS2', 'GIA', 5263.0]\n",
      "[74.0, 0.8, 'I', 'VVS2', 'GIA', 5441.0]\n",
      "[75.0, 0.82, 'I', 'VS2', 'GIA', 4948.0]\n",
      "[76.0, 0.84, 'H', 'VS2', 'GIA', 5705.0]\n",
      "[77.0, 0.85, 'F', 'VS2', 'GIA', 6805.0]\n",
      "[78.0, 0.86, 'H', 'VVS2', 'GIA', 6882.0]\n",
      "[79.0, 0.89, 'H', 'VS1', 'GIA', 6709.0]\n",
      "[80.0, 0.9, 'I', 'VVS2', 'GIA', 6682.0]\n",
      "[81.0, 0.5, 'E', 'VS1', 'GIA', 3501.0]\n",
      "[82.0, 0.5, 'G', 'VVS1', 'GIA', 3432.0]\n",
      "[83.0, 0.51, 'F', 'VVS1', 'GIA', 3851.0]\n",
      "[84.0, 0.55, 'H', 'IF', 'GIA', 3605.0]\n",
      "[85.0, 0.56, 'E', 'VS1', 'GIA', 3900.0]\n",
      "[86.0, 0.57, 'H', 'VVS1', 'GIA', 3415.0]\n",
      "[87.0, 0.6, 'H', 'IF', 'GIA', 4291.0]\n",
      "[88.0, 0.63, 'E', 'IF', 'GIA', 6512.0]\n",
      "[89.0, 0.7, 'E', 'VS1', 'GIA', 5800.0]\n",
      "[90.0, 0.7, 'F', 'VVS1', 'GIA', 6285.0]\n",
      "[91.0, 0.7, 'F', 'VS2', 'GIA', 5122.0]\n",
      "[92.0, 0.7, 'F', 'VS2', 'GIA', 5122.0]\n",
      "[93.0, 0.7, 'G', 'VS1', 'GIA', 5122.0]\n",
      "[94.0, 0.7, 'H', 'VVS2', 'GIA', 5122.0]\n",
      "[95.0, 0.71, 'D', 'VS1', 'GIA', 6372.0]\n",
      "[96.0, 0.71, 'E', 'VS1', 'GIA', 5881.0]\n",
      "[97.0, 0.71, 'H', 'VVS2', 'GIA', 5193.0]\n",
      "[98.0, 0.72, 'E', 'VS1', 'GIA', 5961.0]\n",
      "[99.0, 0.72, 'H', 'VVS1', 'GIA', 5662.0]\n",
      "[100.0, 0.73, 'E', 'VS2', 'GIA', 5738.0]\n",
      "[101.0, 0.73, 'H', 'VS1', 'GIA', 5030.0]\n",
      "[102.0, 0.73, 'H', 'VS1', 'GIA', 5030.0]\n",
      "[103.0, 0.73, 'I', 'VVS1', 'GIA', 4727.0]\n",
      "[104.0, 0.73, 'I', 'VS1', 'GIA', 4221.0]\n",
      "[105.0, 0.74, 'G', 'VVS2', 'GIA', 5815.0]\n",
      "[106.0, 0.74, 'H', 'VS2', 'GIA', 4585.0]\n",
      "[107.0, 0.75, 'D', 'VVS2', 'GIA', 7368.0]\n",
      "[108.0, 0.75, 'I', 'VVS2', 'GIA', 4667.0]\n",
      "[109.0, 0.75, 'I', 'VS1', 'GIA', 4355.0]\n",
      "[110.0, 0.76, 'D', 'IF', 'GIA', 9885.0]\n",
      "[111.0, 0.77, 'F', 'VVS1', 'GIA', 6919.0]\n",
      "[112.0, 0.78, 'H', 'VS1', 'GIA', 5386.0]\n",
      "[113.0, 0.8, 'I', 'VS2', 'GIA', 4832.0]\n",
      "[114.0, 0.83, 'E', 'VS2', 'GIA', 7156.0]\n",
      "[115.0, 0.9, 'F', 'VS1', 'GIA', 7680.0]\n",
      "[116.0, 1.0, 'D', 'VVS1', 'GIA', 15582.0]\n",
      "[117.0, 1.0, 'D', 'VS1', 'GIA', 11419.0]\n",
      "[118.0, 1.0, 'E', 'VS1', 'GIA', 10588.0]\n",
      "[119.0, 1.0, 'E', 'VS2', 'GIA', 9757.0]\n",
      "[120.0, 1.0, 'F', 'IF', 'GIA', 13913.0]\n",
      "[121.0, 1.0, 'F', 'VVS2', 'GIA', 10588.0]\n",
      "[122.0, 1.0, 'F', 'VS1', 'GIA', 10713.0]\n",
      "[123.0, 1.0, 'F', 'VS2', 'GIA', 9480.0]\n",
      "[124.0, 1.0, 'G', 'VVS2', 'GIA', 9896.0]\n",
      "[125.0, 1.0, 'G', 'VS1', 'GIA', 9619.0]\n",
      "[126.0, 1.0, 'G', 'VS2', 'GIA', 9169.0]\n",
      "[127.0, 1.0, 'G', 'VS2', 'GIA', 9203.0]\n",
      "[128.0, 1.0, 'H', 'VS2', 'GIA', 8788.0]\n",
      "[129.0, 1.0, 'I', 'VS1', 'GIA', 8095.0]\n",
      "[130.0, 1.0, 'I', 'VS2', 'GIA', 7818.0]\n",
      "[131.0, 1.01, 'D', 'VVS1', 'GIA', 16008.0]\n",
      "[132.0, 1.01, 'E', 'VS1', 'GIA', 10692.0]\n",
      "[133.0, 1.01, 'E', 'VS2', 'GIA', 9853.0]\n",
      "[134.0, 1.01, 'F', 'VS1', 'GIA', 10272.0]\n",
      "[135.0, 1.01, 'F', 'VS2', 'GIA', 9573.0]\n",
      "[136.0, 1.01, 'H', 'VS1', 'GIA', 9153.0]\n",
      "[137.0, 1.01, 'H', 'VS2', 'GIA', 8873.0]\n",
      "[138.0, 1.01, 'I', 'VVS1', 'GIA', 8873.0]\n",
      "[139.0, 1.01, 'I', 'VVS2', 'GIA', 8455.0]\n",
      "[140.0, 1.01, 'I', 'VS2', 'GIA', 7895.0]\n",
      "[141.0, 1.02, 'F', 'VS1', 'GIA', 10372.0]\n",
      "[142.0, 1.02, 'F', 'VS2', 'GIA', 9666.0]\n",
      "[143.0, 1.02, 'G', 'VVS2', 'GIA', 10090.0]\n",
      "[144.0, 1.03, 'E', 'VS1', 'GIA', 10900.0]\n",
      "[145.0, 1.04, 'F', 'VS1', 'GIA', 10571.0]\n",
      "[146.0, 1.04, 'I', 'IF', 'GIA', 9563.0]\n",
      "[147.0, 1.05, 'I', 'VVS2', 'GIA', 8781.0]\n",
      "[148.0, 1.06, 'G', 'VS2', 'GIA', 9743.0]\n",
      "[149.0, 1.06, 'H', 'VS2', 'GIA', 9302.0]\n",
      "[150.0, 1.07, 'I', 'VVS2', 'GIA', 8945.0]\n",
      "[151.0, 1.1, 'H', 'VS2', 'GIA', 9646.0]\n",
      "[152.0, 0.18, 'F', 'VVS1', 'IGI', 823.0]\n",
      "[153.0, 0.18, 'F', 'VVS2', 'IGI', 765.0]\n",
      "[154.0, 0.18, 'G', 'IF', 'IGI', 803.0]\n",
      "[155.0, 0.18, 'G', 'IF', 'IGI', 803.0]\n",
      "[156.0, 0.18, 'G', 'VVS2', 'IGI', 705.0]\n",
      "[157.0, 0.18, 'H', 'IF', 'IGI', 725.0]\n",
      "[158.0, 0.19, 'D', 'VVS2', 'IGI', 967.0]\n",
      "[159.0, 0.19, 'E', 'IF', 'IGI', 1050.0]\n",
      "[160.0, 0.19, 'F', 'IF', 'IGI', 967.0]\n",
      "[161.0, 0.19, 'F', 'VVS1', 'IGI', 863.0]\n",
      "[162.0, 0.19, 'F', 'VVS2', 'IGI', 800.0]\n",
      "[163.0, 0.19, 'G', 'IF', 'IGI', 842.0]\n",
      "[164.0, 0.19, 'G', 'VVS1', 'IGI', 800.0]\n",
      "[165.0, 0.19, 'H', 'IF', 'IGI', 758.0]\n",
      "[166.0, 0.2, 'D', 'VS1', 'IGI', 880.0]\n",
      "[167.0, 0.2, 'G', 'IF', 'IGI', 880.0]\n",
      "[168.0, 0.2, 'G', 'VS1', 'IGI', 705.0]\n",
      "[169.0, 0.2, 'G', 'VS2', 'IGI', 638.0]\n",
      "[170.0, 0.21, 'D', 'VS1', 'IGI', 919.0]\n",
      "[171.0, 0.21, 'E', 'IF', 'IGI', 1149.0]\n",
      "[172.0, 0.21, 'F', 'IF', 'IGI', 1057.0]\n",
      "[173.0, 0.21, 'G', 'IF', 'IGI', 919.0]\n",
      "[174.0, 0.22, 'E', 'IF', 'IGI', 1198.0]\n",
      "[175.0, 0.23, 'E', 'IF', 'IGI', 1248.0]\n",
      "[176.0, 0.23, 'F', 'IF', 'IGI', 1147.0]\n",
      "[177.0, 0.23, 'G', 'IF', 'IGI', 995.0]\n",
      "[178.0, 0.24, 'H', 'IF', 'IGI', 1108.0]\n",
      "[179.0, 0.25, 'F', 'IF', 'IGI', 1485.0]\n",
      "[180.0, 0.25, 'G', 'IF', 'IGI', 1283.0]\n",
      "[181.0, 0.25, 'H', 'IF', 'IGI', 1149.0]\n",
      "[182.0, 0.25, 'I', 'IF', 'IGI', 1082.0]\n",
      "[183.0, 0.26, 'F', 'IF', 'IGI', 1539.0]\n",
      "[184.0, 0.26, 'F', 'VVS1', 'IGI', 1365.0]\n",
      "[185.0, 0.26, 'F', 'VVS2', 'IGI', 1260.0]\n",
      "[186.0, 0.26, 'I', 'IF', 'IGI', 1121.0]\n",
      "[187.0, 0.27, 'F', 'IF', 'IGI', 1595.0]\n",
      "[188.0, 0.27, 'H', 'IF', 'IGI', 1233.0]\n",
      "[189.0, 0.28, 'I', 'IF', 'IGI', 1199.0]\n",
      "[190.0, 0.29, 'G', 'IF', 'IGI', 1471.0]\n",
      "[191.0, 0.29, 'I', 'IF', 'IGI', 1238.0]\n",
      "[192.0, 0.3, 'E', 'VVS2', 'IGI', 1580.0]\n",
      "[193.0, 0.3, 'F', 'VVS2', 'IGI', 1459.0]\n",
      "[194.0, 0.3, 'G', 'VVS1', 'IGI', 1459.0]\n",
      "[195.0, 0.3, 'H', 'VVS2', 'IGI', 1218.0]\n",
      "[196.0, 0.3, 'I', 'IF', 'IGI', 1299.0]\n",
      "[197.0, 0.31, 'E', 'VVS2', 'IGI', 1628.0]\n",
      "[198.0, 0.31, 'F', 'VVS1', 'IGI', 1628.0]\n",
      "[199.0, 0.31, 'I', 'IF', 'IGI', 1337.0]\n",
      "[200.0, 0.32, 'H', 'IF', 'IGI', 1462.0]\n",
      "[201.0, 0.33, 'H', 'IF', 'IGI', 1503.0]\n",
      "[202.0, 0.34, 'F', 'VVS1', 'IGI', 1773.0]\n",
      "[203.0, 0.34, 'F', 'VVS2', 'IGI', 1636.0]\n",
      "[204.0, 0.35, 'F', 'VVS1', 'IGI', 1821.0]\n",
      "[205.0, 0.35, 'G', 'VVS2', 'IGI', 1540.0]\n",
      "[206.0, 0.4, 'G', 'IF', 'IGI', 2276.0]\n",
      "[207.0, 0.41, 'I', 'VVS1', 'IGI', 1616.0]\n",
      "[208.0, 0.41, 'I', 'VVS2', 'IGI', 1506.0]\n",
      "[209.0, 0.47, 'F', 'VVS2', 'IGI', 2651.0]\n",
      "[210.0, 0.48, 'F', 'VS1', 'IGI', 2383.0]\n",
      "[211.0, 0.5, 'G', 'IF', 'IGI', 3652.0]\n",
      "[212.0, 0.51, 'E', 'VVS2', 'IGI', 3722.0]\n",
      "[213.0, 0.51, 'F', 'VVS1', 'IGI', 3722.0]\n",
      "[214.0, 0.52, 'I', 'IF', 'IGI', 3095.0]\n",
      "[215.0, 0.55, 'F', 'VVS2', 'IGI', 3706.0]\n",
      "[216.0, 0.56, 'E', 'VVS2', 'IGI', 4070.0]\n",
      "[217.0, 0.56, 'G', 'VVS2', 'IGI', 3470.0]\n",
      "[218.0, 0.58, 'E', 'VVS1', 'IGI', 4831.0]\n",
      "[219.0, 0.58, 'F', 'VVS1', 'IGI', 4209.0]\n",
      "[220.0, 0.58, 'G', 'VVS1', 'IGI', 3821.0]\n",
      "[221.0, 0.7, 'G', 'VVS1', 'IGI', 5607.0]\n",
      "[222.0, 0.7, 'G', 'VVS2', 'IGI', 5326.0]\n",
      "[223.0, 0.71, 'D', 'VS1', 'IGI', 6160.0]\n",
      "[224.0, 0.76, 'F', 'VVS2', 'IGI', 6095.0]\n",
      "[225.0, 0.78, 'G', 'VVS2', 'IGI', 5937.0]\n",
      "[226.0, 1.0, 'H', 'VVS2', 'IGI', 9342.0]\n",
      "[227.0, 1.01, 'G', 'VS1', 'IGI', 9713.0]\n",
      "[228.0, 1.01, 'H', 'VS2', 'IGI', 8873.0]\n",
      "[229.0, 1.01, 'I', 'VS1', 'IGI', 8175.0]\n",
      "[230.0, 0.5, 'F', 'VVS1', 'HRD', 3778.0]\n",
      "[231.0, 0.5, 'G', 'VVS1', 'HRD', 3432.0]\n",
      "[232.0, 0.51, 'F', 'VVS1', 'HRD', 3851.0]\n",
      "[233.0, 0.52, 'E', 'VS2', 'HRD', 3346.0]\n",
      "[234.0, 0.52, 'H', 'VVS1', 'HRD', 3130.0]\n",
      "[235.0, 0.53, 'F', 'VVS1', 'HRD', 3995.0]\n",
      "[236.0, 0.53, 'F', 'VVS2', 'HRD', 3701.0]\n",
      "[237.0, 0.55, 'G', 'VVS2', 'HRD', 3529.0]\n",
      "[238.0, 0.56, 'F', 'VS1', 'HRD', 3667.0]\n",
      "[239.0, 0.56, 'F', 'VS2', 'HRD', 3202.0]\n",
      "[240.0, 0.57, 'F', 'VS2', 'HRD', 3256.0]\n",
      "[241.0, 0.57, 'H', 'VVS1', 'HRD', 3415.0]\n",
      "[242.0, 0.58, 'H', 'IF', 'HRD', 3792.0]\n",
      "[243.0, 0.6, 'G', 'VS1', 'HRD', 3925.0]\n",
      "[244.0, 0.6, 'G', 'VS2', 'HRD', 3421.0]\n",
      "[245.0, 0.6, 'H', 'VVS1', 'HRD', 3925.0]\n",
      "[246.0, 0.61, 'H', 'VVS2', 'HRD', 3616.0]\n",
      "[247.0, 0.62, 'I', 'VVS2', 'HRD', 3615.0]\n",
      "[248.0, 0.64, 'H', 'VVS2', 'HRD', 3785.0]\n",
      "[249.0, 0.65, 'I', 'VVS2', 'HRD', 3643.0]\n",
      "[250.0, 0.66, 'H', 'VVS1', 'HRD', 4300.0]\n",
      "[251.0, 0.7, 'E', 'VVS1', 'HRD', 6867.0]\n",
      "[252.0, 0.7, 'E', 'VVS2', 'HRD', 6285.0]\n",
      "[253.0, 0.7, 'G', 'VVS1', 'HRD', 5800.0]\n",
      "[254.0, 0.7, 'G', 'VVS2', 'HRD', 5510.0]\n",
      "[255.0, 0.7, 'H', 'VS2', 'HRD', 4346.0]\n",
      "[256.0, 0.71, 'G', 'IF', 'HRD', 6372.0]\n",
      "[257.0, 0.71, 'H', 'VVS2', 'HRD', 5193.0]\n",
      "[258.0, 0.72, 'H', 'VVS1', 'HRD', 5662.0]\n",
      "[259.0, 0.73, 'F', 'VS2', 'HRD', 5333.0]\n",
      "[260.0, 0.73, 'G', 'VVS1', 'HRD', 6041.0]\n",
      "[261.0, 0.74, 'H', 'VVS1', 'HRD', 5815.0]\n",
      "[262.0, 0.8, 'F', 'IF', 'HRD', 8611.0]\n",
      "[263.0, 0.8, 'F', 'VS1', 'HRD', 6905.0]\n",
      "[264.0, 0.8, 'G', 'VVS2', 'HRD', 6905.0]\n",
      "[265.0, 0.8, 'H', 'VVS2', 'HRD', 6416.0]\n",
      "[266.0, 0.8, 'H', 'VS1', 'HRD', 6051.0]\n",
      "[267.0, 0.81, 'E', 'VVS1', 'HRD', 8715.0]\n",
      "[268.0, 0.81, 'E', 'VS2', 'HRD', 6988.0]\n",
      "[269.0, 0.81, 'F', 'VS1', 'HRD', 6988.0]\n",
      "[270.0, 0.81, 'G', 'VS1', 'HRD', 6495.0]\n",
      "[271.0, 0.81, 'H', 'IF', 'HRD', 7358.0]\n",
      "[272.0, 0.82, 'F', 'VS2', 'HRD', 6572.0]\n",
      "[273.0, 0.82, 'G', 'VVS2', 'HRD', 7072.0]\n",
      "[274.0, 0.85, 'F', 'VVS1', 'HRD', 8359.0]\n",
      "[275.0, 0.85, 'F', 'VS2', 'HRD', 6805.0]\n",
      "[276.0, 0.85, 'G', 'VVS1', 'HRD', 7711.0]\n",
      "[277.0, 0.86, 'H', 'VS2', 'HRD', 5835.0]\n",
      "[278.0, 1.0, 'D', 'VVS2', 'HRD', 13775.0]\n",
      "[279.0, 1.0, 'E', 'VVS1', 'HRD', 14051.0]\n",
      "[280.0, 1.0, 'E', 'VVS2', 'HRD', 11419.0]\n",
      "[281.0, 1.0, 'E', 'VS1', 'HRD', 10588.0]\n",
      "[282.0, 1.0, 'F', 'VVS1', 'HRD', 11696.0]\n",
      "[283.0, 1.0, 'F', 'VVS2', 'HRD', 10588.0]\n",
      "[284.0, 1.0, 'G', 'VVS1', 'HRD', 10450.0]\n",
      "[285.0, 1.0, 'G', 'VVS2', 'HRD', 9896.0]\n",
      "[286.0, 1.0, 'G', 'VS2', 'HRD', 9203.0]\n",
      "[287.0, 1.0, 'H', 'VVS1', 'HRD', 9480.0]\n",
      "[288.0, 1.0, 'H', 'VS1', 'HRD', 9065.0]\n",
      "[289.0, 1.0, 'H', 'VS2', 'HRD', 8788.0]\n",
      "[290.0, 1.0, 'I', 'VVS1', 'HRD', 8788.0]\n",
      "[291.0, 1.0, 'I', 'VVS2', 'HRD', 8372.0]\n",
      "[292.0, 1.0, 'I', 'VS1', 'HRD', 8095.0]\n",
      "[293.0, 1.0, 'I', 'VS2', 'HRD', 7818.0]\n",
      "[294.0, 1.01, 'D', 'VVS2', 'HRD', 13909.0]\n",
      "[295.0, 1.01, 'E', 'VVS2', 'HRD', 11531.0]\n",
      "[296.0, 1.01, 'E', 'VS1', 'HRD', 10692.0]\n",
      "[297.0, 1.01, 'F', 'VVS1', 'HRD', 11811.0]\n",
      "[298.0, 1.01, 'F', 'VS1', 'HRD', 10272.0]\n",
      "[299.0, 1.01, 'G', 'VVS2', 'HRD', 9993.0]\n",
      "[300.0, 1.01, 'G', 'VS2', 'HRD', 9293.0]\n",
      "[301.0, 1.01, 'H', 'VVS2', 'HRD', 9433.0]\n",
      "[302.0, 1.01, 'H', 'VS1', 'HRD', 9153.0]\n",
      "[303.0, 1.01, 'I', 'VVS1', 'HRD', 8873.0]\n",
      "[304.0, 1.01, 'I', 'VS1', 'HRD', 8175.0]\n",
      "[305.0, 1.02, 'F', 'VVS2', 'HRD', 10796.0]\n",
      "[306.0, 1.06, 'H', 'VVS2', 'HRD', 9890.0]\n",
      "[307.0, 1.02, 'H', 'VS2', 'HRD', 8959.0]\n",
      "[308.0, 1.09, 'I', 'VVS2', 'HRD', 9107.0]\n"
     ]
    }
   ],
   "source": [
    "for i in range(dsheet.nrows):\n",
    "    row = dsheet.row_values(i)\n",
    "    print(row)"
   ]
  },
  {
   "cell_type": "code",
   "execution_count": 11,
   "metadata": {},
   "outputs": [
    {
     "name": "stdout",
     "output_type": "stream",
     "text": [
      "1.1 9646.0\n"
     ]
    }
   ],
   "source": [
    "max_weight = 0\n",
    "max_price =0\n",
    "for i in range(dsheet.nrows):\n",
    "    if i >=1:\n",
    "        row = dsheet.row_values(i)\n",
    "        if max_weight < row[1]:\n",
    "            max_weight = row[1]\n",
    "            max_price = row[5]\n",
    "print(max_weight, max_price)"
   ]
  },
  {
   "cell_type": "markdown",
   "metadata": {},
   "source": [
    "# Q2 AVERAGE PRICE OF DIAMONDS"
   ]
  },
  {
   "cell_type": "code",
   "execution_count": 20,
   "metadata": {},
   "outputs": [
    {
     "name": "stdout",
     "output_type": "stream",
     "text": [
      "5019.483766233766\n"
     ]
    }
   ],
   "source": [
    "total_price = 0\n",
    "for i in range(dsheet.nrows):\n",
    "    if i >=1:\n",
    "        row = dsheet.row_values(i)\n",
    "        total_price = total_price + row[5]\n",
    "print(total_price/(dsheet.nrows-1))"
   ]
  },
  {
   "cell_type": "markdown",
   "metadata": {},
   "source": [
    "# PRACTICE: WRITING TO EXISTING EXCEL"
   ]
  },
  {
   "cell_type": "code",
   "execution_count": 29,
   "metadata": {},
   "outputs": [],
   "source": [
    "import xlrd"
   ]
  },
  {
   "cell_type": "code",
   "execution_count": 30,
   "metadata": {},
   "outputs": [
    {
     "name": "stdout",
     "output_type": "stream",
     "text": [
      "Collecting xlutils\n",
      "\u001b[?25l  Downloading https://files.pythonhosted.org/packages/c7/55/e22ac73dbb316cabb5db28bef6c87044a95914f713a6e81b593f8a0d2f79/xlutils-2.0.0-py2.py3-none-any.whl (55kB)\n",
      "\u001b[K    100% |████████████████████████████████| 61kB 21.7MB/s ta 0:00:01\n",
      "\u001b[?25hRequirement already satisfied: xlwt>=0.7.4 in /home/ec2-user/anaconda3/envs/python3/lib/python3.6/site-packages (from xlutils) (1.3.0)\n",
      "Requirement already satisfied: xlrd>=0.7.2 in /home/ec2-user/anaconda3/envs/python3/lib/python3.6/site-packages (from xlutils) (1.1.0)\n",
      "Installing collected packages: xlutils\n",
      "Successfully installed xlutils-2.0.0\n",
      "\u001b[33mYou are using pip version 10.0.1, however version 20.0.2 is available.\n",
      "You should consider upgrading via the 'pip install --upgrade pip' command.\u001b[0m\n"
     ]
    }
   ],
   "source": [
    "!pip install xlutils"
   ]
  },
  {
   "cell_type": "code",
   "execution_count": 38,
   "metadata": {},
   "outputs": [],
   "source": [
    "from xlutils.copy import copy"
   ]
  },
  {
   "cell_type": "code",
   "execution_count": 33,
   "metadata": {},
   "outputs": [],
   "source": [
    "r_book = xlrd.open_workbook(\"demo_write.xls\")"
   ]
  },
  {
   "cell_type": "code",
   "execution_count": 39,
   "metadata": {},
   "outputs": [],
   "source": [
    "r_sheet = r_book.sheet_by_name(\"sheet_write\")"
   ]
  },
  {
   "cell_type": "code",
   "execution_count": 40,
   "metadata": {},
   "outputs": [
    {
     "name": "stdout",
     "output_type": "stream",
     "text": [
      "9\n"
     ]
    }
   ],
   "source": [
    "print(r_sheet.nrows)"
   ]
  },
  {
   "cell_type": "code",
   "execution_count": 41,
   "metadata": {},
   "outputs": [],
   "source": [
    "w_book = copy(r_book)"
   ]
  },
  {
   "cell_type": "code",
   "execution_count": 42,
   "metadata": {},
   "outputs": [],
   "source": [
    "w_sheet = w_book.get_sheet(0)"
   ]
  },
  {
   "cell_type": "code",
   "execution_count": 43,
   "metadata": {},
   "outputs": [],
   "source": [
    "for i in range(r_sheet.nrows):\n",
    "    if 1 == 0:\n",
    "        w_sheet.write(0,2,\"U/P\")\n",
    "    else: \n",
    "        new_value = r_sheet.row_values(i)[1]\n",
    "        w_sheet.write (i,2,new_value+1)\n",
    "w_book.save(\"demo_write.xls\")"
   ]
  },
  {
   "cell_type": "markdown",
   "metadata": {},
   "source": [
    "# Q3"
   ]
  },
  {
   "cell_type": "code",
   "execution_count": 44,
   "metadata": {},
   "outputs": [],
   "source": [
    "from xlutils.copy import copy"
   ]
  },
  {
   "cell_type": "code",
   "execution_count": 45,
   "metadata": {},
   "outputs": [],
   "source": [
    "import xlrd"
   ]
  },
  {
   "cell_type": "code",
   "execution_count": 46,
   "metadata": {},
   "outputs": [],
   "source": [
    "r_book = xlrd.open_workbook(\"Diamonds.xls\")"
   ]
  },
  {
   "cell_type": "code",
   "execution_count": 47,
   "metadata": {},
   "outputs": [],
   "source": [
    "r_sheet = r_book.sheet_by_name(\"Diamonds\")"
   ]
  },
  {
   "cell_type": "code",
   "execution_count": 48,
   "metadata": {},
   "outputs": [
    {
     "name": "stdout",
     "output_type": "stream",
     "text": [
      "309\n"
     ]
    }
   ],
   "source": [
    "print(r_sheet.nrows)"
   ]
  },
  {
   "cell_type": "code",
   "execution_count": 50,
   "metadata": {},
   "outputs": [],
   "source": [
    "w_book = copy(r_book)"
   ]
  },
  {
   "cell_type": "code",
   "execution_count": 51,
   "metadata": {},
   "outputs": [],
   "source": [
    "w_sheet = w_book.get_sheet(0)"
   ]
  },
  {
   "cell_type": "code",
   "execution_count": 53,
   "metadata": {},
   "outputs": [],
   "source": [
    "for i in range(r_sheet.nrows):\n",
    "    if i == 0:\n",
    "        w_sheet.write(0,6,\"UNIT PRICE\")\n",
    "    else: \n",
    "        weight = r_sheet.row_values(i)[1]\n",
    "        price = r_sheet.row_values(i)[5]\n",
    "        w_sheet.write (i,6,price/weight)\n",
    "w_book.save(\"Diamonds.xls\")"
   ]
  },
  {
   "cell_type": "markdown",
   "metadata": {},
   "source": [
    "# Q4"
   ]
  },
  {
   "cell_type": "code",
   "execution_count": 56,
   "metadata": {
    "scrolled": true
   },
   "outputs": [
    {
     "name": "stdout",
     "output_type": "stream",
     "text": [
      "['IDNO', 'WEIGHT', 'COLOR', 'CLARITY', 'RATER', 'PRICE', 'UNIT PRICE']\n",
      "[1.0, 0.3, 'D', 'VS2', 'GIA', 1302.0, 4340.0]\n",
      "[2.0, 0.3, 'E', 'VS1', 'GIA', 1510.0, 5033.333333333334]\n",
      "[3.0, 0.3, 'G', 'VVS1', 'GIA', 1510.0, 5033.333333333334]\n",
      "[4.0, 0.3, 'G', 'VS1', 'GIA', 1260.0, 4200.0]\n",
      "[5.0, 0.31, 'D', 'VS1', 'GIA', 1641.0, 5293.548387096775]\n",
      "[6.0, 0.31, 'E', 'VS1', 'GIA', 1555.0, 5016.129032258064]\n",
      "[7.0, 0.31, 'F', 'VS1', 'GIA', 1427.0, 4603.225806451613]\n",
      "[8.0, 0.31, 'G', 'VVS2', 'GIA', 1427.0, 4603.225806451613]\n",
      "[9.0, 0.31, 'H', 'VS2', 'GIA', 1126.0, 3632.2580645161293]\n",
      "[10.0, 0.31, 'I', 'VS1', 'GIA', 1126.0, 3632.2580645161293]\n"
     ]
    }
   ],
   "source": [
    "new_r_book = xlrd.open_workbook(\"Diamonds.xls\")\n",
    "new_r_sheet = new_r_book.sheet_by_name(\"Diamonds\")\n",
    "\n",
    "for i in range(11):\n",
    "    print(new_r_sheet.row_values(i))"
   ]
  },
  {
   "cell_type": "code",
   "execution_count": null,
   "metadata": {},
   "outputs": [],
   "source": []
  }
 ],
 "metadata": {
  "kernelspec": {
   "display_name": "conda_python3",
   "language": "python",
   "name": "conda_python3"
  },
  "language_info": {
   "codemirror_mode": {
    "name": "ipython",
    "version": 3
   },
   "file_extension": ".py",
   "mimetype": "text/x-python",
   "name": "python",
   "nbconvert_exporter": "python",
   "pygments_lexer": "ipython3",
   "version": "3.6.5"
  }
 },
 "nbformat": 4,
 "nbformat_minor": 4
}
